{
 "cells": [
  {
   "cell_type": "code",
   "execution_count": 8,
   "metadata": {},
   "outputs": [],
   "source": [
    "import pandas as pd"
   ]
  },
  {
   "cell_type": "code",
   "execution_count": 13,
   "metadata": {},
   "outputs": [],
   "source": [
    "filename = \"JSD_KMB_2023-24.csv\"\n",
    "\n",
    "df = pd.read_csv(filename, thousands=',', dayfirst=True,\n",
    "                 parse_dates=['Transaction Date'])\n",
    "\n",
    "df['Transaction Date'] = pd.to_datetime(\n",
    "    df['Transaction Date'], errors='coerce', dayfirst=True)"
   ]
  },
  {
   "cell_type": "code",
   "execution_count": 14,
   "metadata": {},
   "outputs": [],
   "source": [
    "CATEGORIES = [\n",
    "    {\"name\": \"SpendzAccount\", \"keywords\": ['SENT TO SPENDZ']},\n",
    "    {'name': \"AccomptantSalary\", \"keywords\":  [\n",
    "        \"KCH AND\", \"IMPS TRANSACTION 230303 306204581173\"]},\n",
    "    {\"name\": \"PO-RD\", \"keywords\": [\"PO RD\"]},\n",
    "    {\"name\": \"Milk\", \"keywords\": [\"BABURAO RAMCHAN\"]},\n",
    "    {\"name\": \"House Construction\", \"keywords\": [\n",
    "        \"First Installement\", \"House\", \"Construction\"]},\n",
    "    {\"name\": \"Advance Tax\", \"keywords\": [\"ETAX\"]},\n",
    "    {\"name\": \"Amazon Shopping\", \"keywords\": [\"Tushar, amazon_sellet\"]},\n",
    "    {\"name\": \"Cash Withdrawal\", \"keywords\": [\"ATW\"]}\n",
    "]\n",
    "\n",
    "\n",
    "def categroize_transaction(description):\n",
    "    description = str(description).lower()\n",
    "\n",
    "    for category in CATEGORIES:\n",
    "        if any(keyword.lower() in description for keyword in category['keywords']):\n",
    "            return category['name']\n",
    "\n",
    "    return 'Other'"
   ]
  },
  {
   "cell_type": "code",
   "execution_count": 15,
   "metadata": {},
   "outputs": [],
   "source": [
    "df['Category'] = df['Description'].apply(categroize_transaction)\n",
    "\n",
    "df['Debit'] = pd.to_numeric(df['Debit'], errors='coerce').fillna(0)\n",
    "df['Credit'] = pd.to_numeric(df['Credit'], errors='coerce').fillna(0)\n",
    "df['Amount'] = df['Credit'] - df['Debit']\n",
    "\n",
    "df['YearMonth'] = df['Transaction Date'].dt.to_period('M')\n",
    "\n",
    "monthly_stats = df.groupby(['YearMonth', 'Category'])[\n",
    "    'Amount'].sum().reset_index()"
   ]
  },
  {
   "cell_type": "code",
   "execution_count": 16,
   "metadata": {},
   "outputs": [
    {
     "data": {
      "text/html": [
       "<div>\n",
       "<style scoped>\n",
       "    .dataframe tbody tr th:only-of-type {\n",
       "        vertical-align: middle;\n",
       "    }\n",
       "\n",
       "    .dataframe tbody tr th {\n",
       "        vertical-align: top;\n",
       "    }\n",
       "\n",
       "    .dataframe thead th {\n",
       "        text-align: right;\n",
       "    }\n",
       "</style>\n",
       "<table border=\"1\" class=\"dataframe\">\n",
       "  <thead>\n",
       "    <tr style=\"text-align: right;\">\n",
       "      <th></th>\n",
       "      <th>YearMonth</th>\n",
       "      <th>Category</th>\n",
       "      <th>Amount</th>\n",
       "    </tr>\n",
       "  </thead>\n",
       "  <tbody>\n",
       "    <tr>\n",
       "      <th>0</th>\n",
       "      <td>2023-01</td>\n",
       "      <td>Cash Withdrawal</td>\n",
       "      <td>-6000.0</td>\n",
       "    </tr>\n",
       "    <tr>\n",
       "      <th>1</th>\n",
       "      <td>2023-01</td>\n",
       "      <td>Milk</td>\n",
       "      <td>-1560.0</td>\n",
       "    </tr>\n",
       "    <tr>\n",
       "      <th>2</th>\n",
       "      <td>2023-01</td>\n",
       "      <td>Other</td>\n",
       "      <td>-310.0</td>\n",
       "    </tr>\n",
       "    <tr>\n",
       "      <th>3</th>\n",
       "      <td>2023-01</td>\n",
       "      <td>PO-RD</td>\n",
       "      <td>-2000.0</td>\n",
       "    </tr>\n",
       "    <tr>\n",
       "      <th>4</th>\n",
       "      <td>2023-01</td>\n",
       "      <td>SpendzAccount</td>\n",
       "      <td>-3000.0</td>\n",
       "    </tr>\n",
       "    <tr>\n",
       "      <th>...</th>\n",
       "      <td>...</td>\n",
       "      <td>...</td>\n",
       "      <td>...</td>\n",
       "    </tr>\n",
       "    <tr>\n",
       "      <th>64</th>\n",
       "      <td>2023-12</td>\n",
       "      <td>Cash Withdrawal</td>\n",
       "      <td>-11000.0</td>\n",
       "    </tr>\n",
       "    <tr>\n",
       "      <th>65</th>\n",
       "      <td>2023-12</td>\n",
       "      <td>Other</td>\n",
       "      <td>-77409.0</td>\n",
       "    </tr>\n",
       "    <tr>\n",
       "      <th>66</th>\n",
       "      <td>2023-12</td>\n",
       "      <td>PO-RD</td>\n",
       "      <td>-2000.0</td>\n",
       "    </tr>\n",
       "    <tr>\n",
       "      <th>67</th>\n",
       "      <td>2023-12</td>\n",
       "      <td>SpendzAccount</td>\n",
       "      <td>-8000.0</td>\n",
       "    </tr>\n",
       "    <tr>\n",
       "      <th>68</th>\n",
       "      <td>2024-01</td>\n",
       "      <td>Other</td>\n",
       "      <td>1321.0</td>\n",
       "    </tr>\n",
       "  </tbody>\n",
       "</table>\n",
       "<p>69 rows × 3 columns</p>\n",
       "</div>"
      ],
      "text/plain": [
       "   YearMonth         Category   Amount\n",
       "0    2023-01  Cash Withdrawal  -6000.0\n",
       "1    2023-01             Milk  -1560.0\n",
       "2    2023-01            Other   -310.0\n",
       "3    2023-01            PO-RD  -2000.0\n",
       "4    2023-01    SpendzAccount  -3000.0\n",
       "..       ...              ...      ...\n",
       "64   2023-12  Cash Withdrawal -11000.0\n",
       "65   2023-12            Other -77409.0\n",
       "66   2023-12            PO-RD  -2000.0\n",
       "67   2023-12    SpendzAccount  -8000.0\n",
       "68   2024-01            Other   1321.0\n",
       "\n",
       "[69 rows x 3 columns]"
      ]
     },
     "execution_count": 16,
     "metadata": {},
     "output_type": "execute_result"
    }
   ],
   "source": [
    "monthly_stats"
   ]
  },
  {
   "cell_type": "code",
   "execution_count": 19,
   "metadata": {},
   "outputs": [
    {
     "data": {
      "text/plain": [
       "<pandas.core.groupby.generic.DataFrameGroupBy object at 0x120719b10>"
      ]
     },
     "execution_count": 19,
     "metadata": {},
     "output_type": "execute_result"
    }
   ],
   "source": [
    "stats = monthly_stats.groupby(['YearMonth'])\n",
    "stats"
   ]
  },
  {
   "cell_type": "code",
   "execution_count": null,
   "metadata": {},
   "outputs": [],
   "source": []
  }
 ],
 "metadata": {
  "kernelspec": {
   "display_name": "venv",
   "language": "python",
   "name": "python3"
  },
  "language_info": {
   "codemirror_mode": {
    "name": "ipython",
    "version": 3
   },
   "file_extension": ".py",
   "mimetype": "text/x-python",
   "name": "python",
   "nbconvert_exporter": "python",
   "pygments_lexer": "ipython3",
   "version": "3.10.4"
  }
 },
 "nbformat": 4,
 "nbformat_minor": 2
}
